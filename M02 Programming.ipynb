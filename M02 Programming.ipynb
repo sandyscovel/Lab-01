{
 "cells": [
  {
   "cell_type": "code",
   "execution_count": 3,
   "id": "3a798e8a",
   "metadata": {},
   "outputs": [
    {
     "name": "stdout",
     "output_type": "stream",
     "text": [
      "too low\n"
     ]
    }
   ],
   "source": [
    "# m02 Programming\n",
    "# author: Sandra Scovel\n",
    "# created: 2022-01-22 (sls)\n",
    "# progrmming examples 4.1,4.2, 6.1-6.3.\n",
    "\n",
    "# Exercise 4.1\n",
    "secret = 7\n",
    "guess = 3\n",
    "\n",
    "if guess < secret: \n",
    "    print (\"too low\")\n",
    "elif guess > secret: \n",
    "    print (\"too high\")\n",
    "else: print (\"just right\")"
   ]
  },
  {
   "cell_type": "code",
   "execution_count": 16,
   "id": "b66735d6",
   "metadata": {},
   "outputs": [
    {
     "name": "stdout",
     "output_type": "stream",
     "text": [
      "It's a pea.\n"
     ]
    }
   ],
   "source": [
    "# Exercise 4.2 first combo\n",
    "\n",
    "small = True\n",
    "green = True\n",
    "if small:\n",
    "    if green:\n",
    "        print(\"It's a pea.\")\n",
    "    else:\n",
    "        print(\"It's a cherry\")\n",
    "else:\n",
    "    if green:\n",
    "        print(\"it is a watermelon\")\n",
    "    else:\n",
    "        print(\"It is a pumpkin\")"
   ]
  },
  {
   "cell_type": "code",
   "execution_count": 19,
   "id": "f3354b84",
   "metadata": {},
   "outputs": [
    {
     "name": "stdout",
     "output_type": "stream",
     "text": [
      "it is a watermelon\n"
     ]
    }
   ],
   "source": [
    "# Exercise 4.2 second combo\n",
    "\n",
    "small = False\n",
    "green = True\n",
    "if small:\n",
    "    if green:\n",
    "        print(\"It's a pea.\")\n",
    "    else:\n",
    "        print(\"It's a cherry\")\n",
    "else:\n",
    "    if green:\n",
    "        print(\"it is a watermelon\")\n",
    "    else:\n",
    "        print(\"It is a pumpkin\")"
   ]
  },
  {
   "cell_type": "code",
   "execution_count": 20,
   "id": "81300bae",
   "metadata": {},
   "outputs": [
    {
     "name": "stdout",
     "output_type": "stream",
     "text": [
      "It's a cherry\n"
     ]
    }
   ],
   "source": [
    "# Exercise 4.2 third combo\n",
    "\n",
    "small = True\n",
    "green = False\n",
    "if small:\n",
    "    if green:\n",
    "        print(\"It's a pea.\")\n",
    "    else:\n",
    "        print(\"It's a cherry\")\n",
    "else:\n",
    "    if green:\n",
    "        print(\"it is a watermelon\")\n",
    "    else:\n",
    "        print(\"It is a pumpkin\")"
   ]
  },
  {
   "cell_type": "code",
   "execution_count": 21,
   "id": "3427cbb9",
   "metadata": {},
   "outputs": [
    {
     "name": "stdout",
     "output_type": "stream",
     "text": [
      "It is a pumpkin\n"
     ]
    }
   ],
   "source": [
    "# Exercise 4.2 fourth combo\n",
    "\n",
    "small = False\n",
    "green = False\n",
    "if small:\n",
    "    if green:\n",
    "        print(\"It's a pea.\")\n",
    "    else:\n",
    "        print(\"It's a cherry\")\n",
    "else:\n",
    "    if green:\n",
    "        print(\"it is a watermelon\")\n",
    "    else:\n",
    "        print(\"It is a pumpkin\")"
   ]
  },
  {
   "cell_type": "code",
   "execution_count": 22,
   "id": "125c644c",
   "metadata": {},
   "outputs": [
    {
     "name": "stdout",
     "output_type": "stream",
     "text": [
      "3\n",
      "2\n",
      "1\n",
      "0\n"
     ]
    }
   ],
   "source": [
    "# Exercise 6.1\n",
    "\n",
    "for x in [3,2,1,0]:\n",
    "    print(x)"
   ]
  },
  {
   "cell_type": "code",
   "execution_count": 1,
   "id": "537c2e3a",
   "metadata": {},
   "outputs": [
    {
     "ename": "SyntaxError",
     "evalue": "invalid syntax (2042106564.py, line 8)",
     "output_type": "error",
     "traceback": [
      "\u001b[1;36m  File \u001b[1;32m\"C:\\Users\\slsco\\AppData\\Local\\Temp\\ipykernel_14056\\2042106564.py\"\u001b[1;36m, line \u001b[1;32m8\u001b[0m\n\u001b[1;33m    elif number is > guess_me:\u001b[0m\n\u001b[1;37m                   ^\u001b[0m\n\u001b[1;31mSyntaxError\u001b[0m\u001b[1;31m:\u001b[0m invalid syntax\n"
     ]
    }
   ],
   "source": [
    "# Exercise 6.2 While loop\n",
    "guess_me = 7\n",
    "number = 1\n",
    "\n",
    "while True:\n",
    "    if number < guess_me:\n",
    "        print(\"too low\")\n",
    "    elif number is > guess_me:\n",
    "        print(\"oops\")\n",
    "        break\n",
    "    elif number is == guess_me:\n",
    "        print(\"found it\")\n",
    "        break\n",
    "    number += 1"
   ]
  },
  {
   "cell_type": "code",
   "execution_count": 2,
   "id": "e9547a82",
   "metadata": {},
   "outputs": [
    {
     "name": "stdout",
     "output_type": "stream",
     "text": [
      "too low\n",
      "too low\n",
      "too low\n",
      "too low\n",
      "too low\n",
      "too low\n",
      "found it!\n"
     ]
    }
   ],
   "source": [
    "# Exercise 6.2 While loop second try\n",
    "\n",
    "guess_me = 7\n",
    "number = 1\n",
    "while True:\n",
    "    if number < guess_me:\n",
    "        print('too low')\n",
    "    elif number == guess_me:\n",
    "        print('found it!')\n",
    "        break\n",
    "    elif number > guess_me:\n",
    "        print('oops')\n",
    "        break\n",
    "    number += 1"
   ]
  },
  {
   "cell_type": "code",
   "execution_count": 3,
   "id": "a008e24f",
   "metadata": {},
   "outputs": [
    {
     "name": "stdout",
     "output_type": "stream",
     "text": [
      "too low\n",
      "too low\n",
      "too low\n",
      "too low\n",
      "too low\n",
      "found it!\n"
     ]
    }
   ],
   "source": [
    "# Exercise 6.3 For Loop\n",
    "\n",
    "guess_me = 5\n",
    "\n",
    "for number in range (10): \n",
    "    if number < guess_me:\n",
    "        print('too low')\n",
    "    elif number == guess_me:\n",
    "        print('found it!')\n",
    "        break\n",
    "    else:\n",
    "        print('oops')\n",
    "        break\n",
    "    \n"
   ]
  },
  {
   "cell_type": "code",
   "execution_count": null,
   "id": "84eee483",
   "metadata": {},
   "outputs": [],
   "source": []
  }
 ],
 "metadata": {
  "kernelspec": {
   "display_name": "Python 3 (ipykernel)",
   "language": "python",
   "name": "python3"
  },
  "language_info": {
   "codemirror_mode": {
    "name": "ipython",
    "version": 3
   },
   "file_extension": ".py",
   "mimetype": "text/x-python",
   "name": "python",
   "nbconvert_exporter": "python",
   "pygments_lexer": "ipython3",
   "version": "3.9.13"
  }
 },
 "nbformat": 4,
 "nbformat_minor": 5
}
