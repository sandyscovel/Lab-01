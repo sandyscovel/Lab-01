{
 "cells": [
  {
   "cell_type": "code",
   "execution_count": 68,
   "id": "ae55b0bb",
   "metadata": {},
   "outputs": [
    {
     "name": "stdout",
     "output_type": "stream",
     "text": [
      "1\n",
      " Let's enter a student's first and last  name.\n",
      "Type a last name: mo\n",
      "Type a first name: ma\n",
      "Enter the student's GPA: 3.7\n",
      "ma mo has made the Dean's List.\n",
      "ma mo has made the honor roll\n",
      "2\n",
      " Let's enter a student's first and last  name.\n",
      "Type a last name: me\n",
      "Type a first name: mo\n",
      "Enter the student's GPA: 3.25\n",
      "mo me has made the honor roll\n",
      "3\n",
      " Let's enter a student's first and last  name.\n",
      "Type a last name: no\n",
      "Type a first name: na\n",
      "Enter the student's GPA: 3.5\n",
      "na no has made the Dean's List.\n",
      "na no has made the honor roll\n",
      "4\n",
      " Let's enter a student's first and last  name.\n",
      "Type a last name: do\n",
      "Type a first name: da\n",
      "Enter the student's GPA: 3.6\n",
      "da do has made the Dean's List.\n",
      "da do has made the honor roll\n",
      "5\n",
      " Let's enter a student's first and last  name.\n",
      "Type a last name: po\n",
      "Type a first name: pa\n",
      "Enter the student's GPA: 3.1\n"
     ]
    }
   ],
   "source": [
    "# m02 Lab- Case Study: if...else and while\n",
    "# author: Sandra Scovel\n",
    "# created: 2022-01-23 (sls)\n",
    "# app that will accept student names and GPAs and test if the student qualifies for either the Dean's List or the Honor Roll.\n",
    "# put file name : M02 lab case study\n",
    "\n",
    "#my variables by type\n",
    "first_name=(str)\n",
    "last_name=(str)\n",
    "g_p_a = (float)\n",
    "count = 1\n",
    " \n",
    "#this sets up my iterations to satisfy the requirement of the app testing at least five students\n",
    "while count <= 5:\n",
    "    print(count)\n",
    "    print( \" Let's enter a student's first and last  name.\")\n",
    "    last_name = input(\"Type a last name: \")   #from the example in Ch 1 of textbook\n",
    "    \n",
    "    if last_name ==\"ZZZ\": \n",
    "        break\n",
    "        \n",
    "    first_name = input(\"Type a first name: \")\n",
    "    \n",
    "    g_p_a = float(input(\"Enter the student's GPA: \")) \n",
    "    \n",
    "    if g_p_a >= 3.5:\n",
    "        print( first_name + \" \" + last_name + \" has made the Dean's List.\")\n",
    "        \n",
    "    if g_p_a >= 3.25:\n",
    "        print( first_name + \" \" + last_name + \" has made the honor roll\") \n",
    "   \n",
    "    count += 1  #increases the count by 1 each time through.\n",
    "        \n"
   ]
  },
  {
   "cell_type": "code",
   "execution_count": null,
   "id": "1743801c",
   "metadata": {},
   "outputs": [],
   "source": []
  },
  {
   "cell_type": "code",
   "execution_count": null,
   "id": "f4e23fcb",
   "metadata": {},
   "outputs": [],
   "source": []
  }
 ],
 "metadata": {
  "kernelspec": {
   "display_name": "Python 3 (ipykernel)",
   "language": "python",
   "name": "python3"
  },
  "language_info": {
   "codemirror_mode": {
    "name": "ipython",
    "version": 3
   },
   "file_extension": ".py",
   "mimetype": "text/x-python",
   "name": "python",
   "nbconvert_exporter": "python",
   "pygments_lexer": "ipython3",
   "version": "3.9.13"
  }
 },
 "nbformat": 4,
 "nbformat_minor": 5
}
